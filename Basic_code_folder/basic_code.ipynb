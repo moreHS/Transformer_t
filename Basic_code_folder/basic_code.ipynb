{
  "nbformat": 4,
  "nbformat_minor": 0,
  "metadata": {
    "colab": {
      "name": "Untitled3.ipynb",
      "provenance": [],
      "authorship_tag": "ABX9TyO/CcZ3oBfRcBizQNCfSc4C",
      "include_colab_link": true
    },
    "kernelspec": {
      "name": "python3",
      "display_name": "Python 3"
    },
    "language_info": {
      "name": "python"
    }
  },
  "cells": [
    {
      "cell_type": "markdown",
      "metadata": {
        "id": "view-in-github",
        "colab_type": "text"
      },
      "source": [
        "<a href=\"https://colab.research.google.com/github/moreHS/Transformer_t/blob/main/basic_code.ipynb\" target=\"_parent\"><img src=\"https://colab.research.google.com/assets/colab-badge.svg\" alt=\"Open In Colab\"/></a>"
      ]
    },
    {
      "cell_type": "code",
      "source": [
        "pip install konlpy"
      ],
      "metadata": {
        "colab": {
          "base_uri": "https://localhost:8080/"
        },
        "id": "hK-9VjIEk067",
        "outputId": "a4994db1-491d-4619-b1b4-8e8f17eb172b"
      },
      "execution_count": 2,
      "outputs": [
        {
          "output_type": "stream",
          "name": "stdout",
          "text": [
            "Collecting konlpy\n",
            "  Downloading konlpy-0.6.0-py2.py3-none-any.whl (19.4 MB)\n",
            "\u001b[K     |████████████████████████████████| 19.4 MB 75.7 MB/s \n",
            "\u001b[?25hRequirement already satisfied: lxml>=4.1.0 in /usr/local/lib/python3.7/dist-packages (from konlpy) (4.2.6)\n",
            "Collecting JPype1>=0.7.0\n",
            "  Downloading JPype1-1.3.0-cp37-cp37m-manylinux_2_5_x86_64.manylinux1_x86_64.whl (448 kB)\n",
            "\u001b[K     |████████████████████████████████| 448 kB 64.7 MB/s \n",
            "\u001b[?25hRequirement already satisfied: numpy>=1.6 in /usr/local/lib/python3.7/dist-packages (from konlpy) (1.21.5)\n",
            "Requirement already satisfied: typing-extensions in /usr/local/lib/python3.7/dist-packages (from JPype1>=0.7.0->konlpy) (4.1.1)\n",
            "Installing collected packages: JPype1, konlpy\n",
            "Successfully installed JPype1-1.3.0 konlpy-0.6.0\n"
          ]
        }
      ]
    },
    {
      "cell_type": "code",
      "execution_count": 3,
      "metadata": {
        "id": "JFvqlcSsjBWe"
      },
      "outputs": [],
      "source": [
        "import random\n",
        "import numpy as np\n",
        "import tensorflow as tf\n",
        "from konlpy.tag import Okt\n",
        "\n",
        "from tensorflow.keras import Model\n",
        "from tensorflow.keras import Sequential\n",
        "from tensorflow.keras.layers import Dense, Lambda, Layer, Embedding, LayerNormalization"
      ]
    },
    {
      "cell_type": "code",
      "source": [
        "%pwd"
      ],
      "metadata": {
        "colab": {
          "base_uri": "https://localhost:8080/",
          "height": 35
        },
        "id": "zGX4YIiJktur",
        "outputId": "d659fe84-0a62-4efc-bc15-ffa81476c57e"
      },
      "execution_count": 4,
      "outputs": [
        {
          "output_type": "execute_result",
          "data": {
            "text/plain": [
              "'/content'"
            ],
            "application/vnd.google.colaboratory.intrinsic+json": {
              "type": "string"
            }
          },
          "metadata": {},
          "execution_count": 4
        }
      ]
    },
    {
      "cell_type": "code",
      "source": [
        "EPOCHS = 200\n",
        "NUM_WORDS = 2000"
      ],
      "metadata": {
        "id": "OkYDmpfRlBoM"
      },
      "execution_count": 8,
      "outputs": []
    },
    {
      "cell_type": "code",
      "source": [
        "class DotScaledAttention(Layer):\n",
        "    def __init__(self, d_emb, d_reduced, masked=False):\n",
        "        super().__init__()\n",
        "        self.q = Dense(d_reduced, input_shape=(-1, d_emb))\n",
        "        self.k = Dense(d_reduced, input_shape=(-1, d_emb))\n",
        "        self.v = Dense(d_reduced, input_shape=(-1, d_emb))\n",
        "        self.scale = Lambda(lambda x: x/np.sqrt(d_reduced))\n",
        "        self.masked = masked\n",
        "\n",
        "    def call(self, x, training=None, mask=None): # (q,k,v)\n",
        "        q = self.scale(self.q(x[0]))\n",
        "        k = self.k(x[1])\n",
        "        v = self.v(x[2])\n",
        "        \n",
        "        k_T = tf.transpose(k, perm=[0, 2, 1])\n",
        "        comp = tf.matmul(q, k_T)\n",
        "        \n",
        "        if self.masked: # Referred from https://github.com/LastRemote/Transformer-TF2.0\n",
        "            length = tf.shape(comp)[-1]\n",
        "            mask = tf.fill((length, length), -np.inf)\n",
        "            mask = tf.linalg.band_part(mask, 0, -1) # Get upper triangle\n",
        "            mask = tf.linalg.set_diag(mask, tf.zeros((length))) # Set diagonal to zeros to avoid operations with infinity\n",
        "            comp += mask\n",
        "        comp = tf.nn.softmax(comp, axis=-1)\n",
        "        return tf.matmul(comp, v)"
      ],
      "metadata": {
        "id": "FUsFJDIzlJLi"
      },
      "execution_count": 9,
      "outputs": []
    },
    {
      "cell_type": "code",
      "source": [
        "class MultiHeadAttention(Layer):\n",
        "    def __init__(self, num_head, d_emb, d_reduced, masked=False):\n",
        "        super().__init__()\n",
        "        self.attention_list = list()\n",
        "        for _ in range(num_head):\n",
        "            self.attention_list.append(DotScaledAttention(d_emb, d_reduced, masked))\n",
        "        self.linear = Dense(d_emb, input_shape=(-1, num_head * d_reduced))\n",
        "\n",
        "    def call(self, x, training=None, mask=None):\n",
        "        attention_list = [a(x) for a in self.attention_list]\n",
        "        concat = tf.concat(attention_list, axis=-1)\n",
        "        return self.linear(concat)"
      ],
      "metadata": {
        "id": "9RhVGlGvlUuq"
      },
      "execution_count": 10,
      "outputs": []
    },
    {
      "cell_type": "code",
      "source": [
        "class Encoder(Layer):\n",
        "    def __init__(self, num_head, d_reduced):\n",
        "        super().__init__()\n",
        "        self.num_head = num_head\n",
        "        self.d_r = d_reduced\n",
        "    \n",
        "    def build(self, input_shape):\n",
        "        self.multi_attention = MultiHeadAttention(self.num_head, input_shape[-1], self.d_r)\n",
        "        self.layer_norm1 = LayerNormalization(input_shape=input_shape)\n",
        "        self.dense1 = Dense(input_shape[-1] * 4, input_shape=input_shape, activation='relu')\n",
        "        self.dense2 = Dense(input_shape[-1],\n",
        "                            input_shape=self.dense1.compute_output_shape(input_shape))\n",
        "        self.layer_norm2 = LayerNormalization(input_shape=input_shape)\n",
        "        super().build(input_shape)\n",
        "\n",
        "    def call(self, x, training=None, mask=None):\n",
        "        h = self.multi_attention((x, x, x))\n",
        "        ln1 = self.layer_norm1(x + h)\n",
        "        \n",
        "        h = self.dense2(self.dense1(ln1))\n",
        "        return self.layer_norm2(h + ln1)\n",
        "\n",
        "    def compute_output_shape(self, input_shape):\n",
        "        return input_shape"
      ],
      "metadata": {
        "id": "-dJzfpnglc1b"
      },
      "execution_count": 11,
      "outputs": []
    },
    {
      "cell_type": "code",
      "source": [
        "class Decoder(Layer):\n",
        "    def __init__(self, num_head, d_reduced):\n",
        "        super().__init__()\n",
        "        self.num_head = num_head\n",
        "        self.d_r = d_reduced\n",
        "    \n",
        "    def build(self, input_shape):\n",
        "        self.self_attention = MultiHeadAttention(self.num_head, input_shape[0][-1], self.d_r, masked=True)\n",
        "        self.layer_norm1 = LayerNormalization(input_shape=input_shape)\n",
        "        \n",
        "        self.multi_attention = MultiHeadAttention(self.num_head, input_shape[0][-1], self.d_r)\n",
        "        self.layer_norm2 = LayerNormalization(input_shape=input_shape)\n",
        "        \n",
        "        self.dense1 = Dense(input_shape[0][-1] * 4, input_shape=input_shape[0], activation='relu')\n",
        "        self.dense2 = Dense(input_shape[0][-1],\n",
        "                            input_shape=self.dense1.compute_output_shape(input_shape[0]))\n",
        "        self.layer_norm3 = LayerNormalization(input_shape=input_shape)\n",
        "        super().build(input_shape)\n",
        "\n",
        "    def call(self, inputs, training=None, mask=None): # (x, context)\n",
        "        x, context = inputs\n",
        "        h = self.self_attention((x, x, x))\n",
        "        ln1 = self.layer_norm1(x + h)\n",
        "        \n",
        "        h = self.multi_attention((ln1, context, context))\n",
        "        ln2 = self.layer_norm2(ln1 + h)\n",
        "        \n",
        "        h = self.dense2(self.dense1(ln2))\n",
        "        return self.layer_norm3(h + ln2)\n",
        "\n",
        "    def compute_output_shape(self, input_shape):\n",
        "        return input_shape"
      ],
      "metadata": {
        "id": "EnbUSt-GmQH7"
      },
      "execution_count": 12,
      "outputs": []
    },
    {
      "cell_type": "code",
      "source": [
        "class PositionalEncoding(Layer):  # Referred from https://github.com/LastRemote/Transformer-TF2.0\n",
        "    def __init__(self, max_len, d_emb):\n",
        "        super().__init__()\n",
        "        self.sinusoidal_encoding = np.array([self.get_positional_angle(pos, d_emb) for pos in range(max_len)], dtype=np.float32)\n",
        "        self.sinusoidal_encoding[:, 0::2] = np.sin(self.sinusoidal_encoding[:, 0::2])\n",
        "        self.sinusoidal_encoding[:, 1::2] = np.cos(self.sinusoidal_encoding[:, 1::2])\n",
        "        self.sinusoidal_encoding = tf.cast(self.sinusoidal_encoding, dtype=tf.float32)\n",
        "\n",
        "    def call(self, x, training=None, mask=None):\n",
        "        return x + self.sinusoidal_encoding[:tf.shape(x)[1]]\n",
        "\n",
        "    def compute_output_shape(self, input_shape):\n",
        "        return input_shape\n",
        "\n",
        "    def get_angle(self, pos, dim, d_emb):\n",
        "        return pos / np.power(10000, 2 * (dim // 2) / d_emb)\n",
        "\n",
        "    def get_positional_angle(self, pos, d_emb):\n",
        "        return [self.get_angle(pos, dim, d_emb) for dim in range(d_emb)]"
      ],
      "metadata": {
        "id": "DtL_Ek5HmSmC"
      },
      "execution_count": 13,
      "outputs": []
    },
    {
      "cell_type": "code",
      "source": [
        "class Transformer(Model):\n",
        "    def __init__(self, src_vocab, dst_vocab, max_len, d_emb,\n",
        "                       d_reduced, n_enc_layer, n_dec_layer, num_head):\n",
        "        super().__init__()\n",
        "        self.enc_emb = Embedding(src_vocab, d_emb)\n",
        "        self.dec_emb = Embedding(dst_vocab, d_emb)\n",
        "        self.pos_enc = PositionalEncoding(max_len, d_emb)\n",
        "        \n",
        "        self.encoder = [Encoder(num_head, d_reduced) for _ in range(n_enc_layer)]\n",
        "        self.decoder = [Decoder(num_head, d_reduced) for _ in range(n_dec_layer)]\n",
        "        self.dense = Dense(dst_vocab, input_shape=(-1, d_emb))\n",
        "\n",
        "    def call(self, inputs, training=None, mask=None): # (src_sentence, dst_sentence_shifted)\n",
        "        src_sent, dst_sent_shifted = inputs\n",
        "        \n",
        "        h_enc = self.pos_enc(self.enc_emb(src_sent))\n",
        "        for enc in self.encoder:\n",
        "            h_enc = enc(h_enc)\n",
        "            \n",
        "        h_dec = self.pos_enc(self.dec_emb(dst_sent_shifted))\n",
        "        for dec in self.decoder:\n",
        "            h_dec = dec([h_dec, h_enc])\n",
        "            \n",
        "        return tf.nn.softmax(self.dense(h_dec), axis=-1)"
      ],
      "metadata": {
        "id": "LcIkZJQLmVPi"
      },
      "execution_count": 14,
      "outputs": []
    },
    {
      "cell_type": "code",
      "source": [
        "dataset_file = 'chatbot_data.csv' # acquired from 'http://www.aihub.or.kr' and modified\n",
        "okt = Okt()\n",
        "\n",
        "with open(dataset_file, 'r') as file:\n",
        "    lines = file.readlines()\n",
        "    seq = [' '.join(okt.morphs(line)) for line in lines]\n",
        "\n",
        "questions = seq[::2]\n",
        "answers = ['\\t ' + lines for lines in seq[1::2]]\n",
        "\n",
        "num_sample = len(questions)\n",
        "\n",
        "perm = list(range(num_sample))\n",
        "random.seed(0)\n",
        "random.shuffle(perm)\n",
        "\n",
        "train_q = list()\n",
        "train_a = list()\n",
        "test_q = list()\n",
        "test_a = list()\n",
        "\n",
        "for idx, qna in enumerate(zip(questions, answers)):\n",
        "    q, a = qna\n",
        "    if perm[idx] > num_sample//5:\n",
        "        train_q.append(q)\n",
        "        train_a.append(a)\n",
        "    else:\n",
        "        test_q.append(q)\n",
        "        test_a.append(a)\n",
        "\n",
        "tokenizer = tf.keras.preprocessing.text.Tokenizer(num_words=NUM_WORDS,\n",
        "                                                  filters='!\"#$%&()*+,-./:;<=>?@[\\\\]^_`{|}~')\n",
        "\n",
        "tokenizer.fit_on_texts(train_q + train_a)\n",
        "\n",
        "train_q_seq = tokenizer.texts_to_sequences(train_q)\n",
        "train_a_seq = tokenizer.texts_to_sequences(train_a)\n",
        "\n",
        "test_q_seq = tokenizer.texts_to_sequences(test_q)\n",
        "test_a_seq = tokenizer.texts_to_sequences(test_a)\n",
        "\n",
        "x_train = tf.keras.preprocessing.sequence.pad_sequences(train_q_seq,\n",
        "                                                        value=0,\n",
        "                                                        padding='pre',\n",
        "                                                        maxlen=64)\n",
        "y_train = tf.keras.preprocessing.sequence.pad_sequences(train_a_seq,\n",
        "                                                        value=0,\n",
        "                                                        padding='post',\n",
        "                                                        maxlen=65)\n",
        "y_train_shifted = np.concatenate([np.zeros((y_train.shape[0], 1)), y_train[:, 1:]], axis=1)\n",
        "\n",
        "\n",
        "x_test = tf.keras.preprocessing.sequence.pad_sequences(test_q_seq,\n",
        "                                                       value=0,\n",
        "                                                       padding='pre',\n",
        "                                                       maxlen=64)\n",
        "y_test = tf.keras.preprocessing.sequence.pad_sequences(test_a_seq,\n",
        "                                                       value=0,\n",
        "                                                       padding='post',\n",
        "                                                       maxlen=65)"
      ],
      "metadata": {
        "colab": {
          "base_uri": "https://localhost:8080/",
          "height": 248
        },
        "id": "pHMNf5mmmX4W",
        "outputId": "1876ffda-80d2-4525-8b78-c106cd28676b"
      },
      "execution_count": 15,
      "outputs": [
        {
          "output_type": "error",
          "ename": "FileNotFoundError",
          "evalue": "ignored",
          "traceback": [
            "\u001b[0;31m---------------------------------------------------------------------------\u001b[0m",
            "\u001b[0;31mFileNotFoundError\u001b[0m                         Traceback (most recent call last)",
            "\u001b[0;32m<ipython-input-15-ea813bf66ed8>\u001b[0m in \u001b[0;36m<module>\u001b[0;34m()\u001b[0m\n\u001b[1;32m      2\u001b[0m \u001b[0mokt\u001b[0m \u001b[0;34m=\u001b[0m \u001b[0mOkt\u001b[0m\u001b[0;34m(\u001b[0m\u001b[0;34m)\u001b[0m\u001b[0;34m\u001b[0m\u001b[0;34m\u001b[0m\u001b[0m\n\u001b[1;32m      3\u001b[0m \u001b[0;34m\u001b[0m\u001b[0m\n\u001b[0;32m----> 4\u001b[0;31m \u001b[0;32mwith\u001b[0m \u001b[0mopen\u001b[0m\u001b[0;34m(\u001b[0m\u001b[0mdataset_file\u001b[0m\u001b[0;34m,\u001b[0m \u001b[0;34m'r'\u001b[0m\u001b[0;34m)\u001b[0m \u001b[0;32mas\u001b[0m \u001b[0mfile\u001b[0m\u001b[0;34m:\u001b[0m\u001b[0;34m\u001b[0m\u001b[0;34m\u001b[0m\u001b[0m\n\u001b[0m\u001b[1;32m      5\u001b[0m     \u001b[0mlines\u001b[0m \u001b[0;34m=\u001b[0m \u001b[0mfile\u001b[0m\u001b[0;34m.\u001b[0m\u001b[0mreadlines\u001b[0m\u001b[0;34m(\u001b[0m\u001b[0;34m)\u001b[0m\u001b[0;34m\u001b[0m\u001b[0;34m\u001b[0m\u001b[0m\n\u001b[1;32m      6\u001b[0m     \u001b[0mseq\u001b[0m \u001b[0;34m=\u001b[0m \u001b[0;34m[\u001b[0m\u001b[0;34m' '\u001b[0m\u001b[0;34m.\u001b[0m\u001b[0mjoin\u001b[0m\u001b[0;34m(\u001b[0m\u001b[0mokt\u001b[0m\u001b[0;34m.\u001b[0m\u001b[0mmorphs\u001b[0m\u001b[0;34m(\u001b[0m\u001b[0mline\u001b[0m\u001b[0;34m)\u001b[0m\u001b[0;34m)\u001b[0m \u001b[0;32mfor\u001b[0m \u001b[0mline\u001b[0m \u001b[0;32min\u001b[0m \u001b[0mlines\u001b[0m\u001b[0;34m]\u001b[0m\u001b[0;34m\u001b[0m\u001b[0;34m\u001b[0m\u001b[0m\n",
            "\u001b[0;31mFileNotFoundError\u001b[0m: [Errno 2] No such file or directory: 'chatbot_data.csv'"
          ]
        }
      ]
    },
    {
      "cell_type": "code",
      "source": [
        "transformer = Transformer(NUM_WORDS,\n",
        "                          NUM_WORDS,\n",
        "                          128, 16, 16, 2, 2, 4) # Instantiating a new transformer model\n",
        "\n",
        "transformer.compile(optimizer='adam',\n",
        "              loss='sparse_categorical_crossentropy',\n",
        "              metrics=['accuracy'])\n",
        "transformer.fit([x_train, y_train_shifted], y_train, batch_size=5, epochs=EPOCHS)"
      ],
      "metadata": {
        "id": "8S5mcZRSmaFK"
      },
      "execution_count": null,
      "outputs": []
    }
  ]
}
