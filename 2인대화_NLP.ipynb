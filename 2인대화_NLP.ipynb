{
  "nbformat": 4,
  "nbformat_minor": 0,
  "metadata": {
    "colab": {
      "name": "2인대화_NLP.ipynb",
      "provenance": [],
      "collapsed_sections": [],
      "authorship_tag": "ABX9TyMkZ8z5FoY7+x7otwtxWT/B",
      "include_colab_link": true
    },
    "kernelspec": {
      "name": "python3",
      "display_name": "Python 3"
    },
    "language_info": {
      "name": "python"
    },
    "accelerator": "GPU"
  },
  "cells": [
    {
      "cell_type": "markdown",
      "metadata": {
        "id": "view-in-github",
        "colab_type": "text"
      },
      "source": [
        "<a href=\"https://colab.research.google.com/github/moreHS/Transformer_t/blob/main/2%EC%9D%B8%EB%8C%80%ED%99%94_NLP.ipynb\" target=\"_parent\"><img src=\"https://colab.research.google.com/assets/colab-badge.svg\" alt=\"Open In Colab\"/></a>"
      ]
    },
    {
      "cell_type": "code",
      "execution_count": 29,
      "metadata": {
        "id": "QgdIkZX5TTRk"
      },
      "outputs": [],
      "source": [
        "import numpy as np\n",
        "import tensorflow as tf\n",
        "import json\n",
        "import random\n",
        "\n",
        "from tensorflow.keras import Model\n",
        "from tensorflow.keras import Sequential\n",
        "from tensorflow.keras.layers import Dense, Lambda, Layer, Embedding, LayerNormalization"
      ]
    },
    {
      "cell_type": "code",
      "source": [
        "from google.colab import drive\n",
        "drive.mount('/content/drive')"
      ],
      "metadata": {
        "colab": {
          "base_uri": "https://localhost:8080/"
        },
        "id": "_xLklp5XXr6W",
        "outputId": "6e7f3dda-6f21-474f-aa06-adf02dd3869d"
      },
      "execution_count": 2,
      "outputs": [
        {
          "output_type": "stream",
          "name": "stdout",
          "text": [
            "Mounted at /content/drive\n"
          ]
        }
      ]
    },
    {
      "cell_type": "code",
      "source": [
        "f = open('/content/drive/MyDrive/한국어 SNS/Training/[라벨]한국어SNS_train/행사.json', encoding=\"UTF-8\")\n",
        "raw_data = json.loads(f.read())\n"
      ],
      "metadata": {
        "id": "-tQNf3BLUFW4"
      },
      "execution_count": 3,
      "outputs": []
    },
    {
      "cell_type": "code",
      "source": [
        "for x in raw_data:\n",
        "  print(x)"
      ],
      "metadata": {
        "colab": {
          "base_uri": "https://localhost:8080/"
        },
        "id": "LrC99oF6tbyn",
        "outputId": "ec67c71e-4b6c-4dda-a901-f72a0be31419"
      },
      "execution_count": 4,
      "outputs": [
        {
          "output_type": "stream",
          "name": "stdout",
          "text": [
            "numberOfItems\n",
            "data\n"
          ]
        }
      ]
    },
    {
      "cell_type": "code",
      "source": [
        "numitems=raw_data['numberOfItems']\n",
        "\n",
        "data=raw_data['data']"
      ],
      "metadata": {
        "id": "NbNoYJGguURH"
      },
      "execution_count": 4,
      "outputs": []
    },
    {
      "cell_type": "code",
      "source": [
        "print(np.shape(data))"
      ],
      "metadata": {
        "colab": {
          "base_uri": "https://localhost:8080/"
        },
        "id": "0LgiXf1DwA4W",
        "outputId": "d379f247-f274-4e17-e89e-f38a9c64e36c"
      },
      "execution_count": 6,
      "outputs": [
        {
          "output_type": "stream",
          "name": "stdout",
          "text": [
            "(141120,)\n"
          ]
        }
      ]
    },
    {
      "cell_type": "code",
      "source": [
        "print(data[0]['body'][0])\n",
        "print(type(data[0]['body'][0]))\n",
        "\n",
        "print(type(data[0]['header']['dialogueInfo']['numberOfParticipants']))"
      ],
      "metadata": {
        "colab": {
          "base_uri": "https://localhost:8080/"
        },
        "id": "9D_-glhwwNWm",
        "outputId": "784c4557-d7b3-4d3e-f86c-b641075c0bb9"
      },
      "execution_count": 5,
      "outputs": [
        {
          "output_type": "stream",
          "name": "stdout",
          "text": [
            "{'utteranceID': 'U1', 'turnID': 'T1', 'participantID': 'P01', 'date': '2020-07-30', 'time': '13:00:00', 'utterance': '가족분위기나 어머니 아버지가 마니 엄격하신지 조금씩 물어보구....'}\n",
            "<class 'dict'>\n",
            "<class 'int'>\n"
          ]
        }
      ]
    },
    {
      "cell_type": "markdown",
      "source": [
        "## json 파일에서 데이터 추출\n",
        "\n",
        "header에서는 발화자 수 추출하여 2인 대화만 저장\n",
        "\n",
        "body에서는 발화자 id와 대화내용 저장"
      ],
      "metadata": {
        "id": "R3mJNsUS6Svv"
      }
    },
    {
      "cell_type": "code",
      "source": [
        "sent_lists=[]\n",
        "pnum_lists=[]\n",
        "\n",
        "for docs in data:\n",
        "  sent_list=[]\n",
        "  pnum_list=[]\n",
        "  head=docs['header']\n",
        "  docss=docs['body']\n",
        "  if head['dialogueInfo']['numberOfParticipants']==2:\n",
        "    for sents in docss:\n",
        "      pnum = int(sents['participantID'][-1])\n",
        "      sentens = sents['utterance']\n",
        "      sent_list.append(sentens)\n",
        "      pnum_list.append(pnum)\n",
        "    sent_lists.append(sent_list)\n",
        "    pnum_lists.append(pnum_list)\n",
        "\n"
      ],
      "metadata": {
        "id": "_ovuKXiNwnOu"
      },
      "execution_count": 5,
      "outputs": []
    },
    {
      "cell_type": "code",
      "source": [
        "print(pnum_lists[0])\n",
        "print(sent_lists[0])"
      ],
      "metadata": {
        "colab": {
          "base_uri": "https://localhost:8080/"
        },
        "id": "ftL_Glkm3i-X",
        "outputId": "ef0b58d7-d33d-46ed-cfc2-4f7dcd605a4c"
      },
      "execution_count": 6,
      "outputs": [
        {
          "output_type": "stream",
          "name": "stdout",
          "text": [
            "[1, 2, 1, 2, 1, 2, 1, 2, 2, 1, 1, 2, 2, 1, 2, 2, 1, 1, 2, 1]\n",
            "['가족분위기나 어머니 아버지가 마니 엄격하신지 조금씩 물어보구....', 'ㅋㅋㅋㅋ웅', '얘기는 잘 통해?', '응 뭐 얘기는 괜찮아', '언제 또봐?', '몰라 아직ㅋㅋㅋ 오늘 나 필테 취소돼서 오늘 또 보잿는데 내가 걍 쉰다햇거든ㅋㅋㅋ 하루는 좀 쉬어야지 피곤', 'ㅋ. 그래.  셤셤 만나', '웅ㅋㅋㅋ', '#@시스템#사진#', '이뿌넹', '저녁에 #@이름#만나서 올거여??', '??', '갑자기 #@이름#?', '#@이름#이 오늘저녁에 집에와서 같이자고 낼 이모네 같이간다했는데', '엥 첨듣는데 ㅋㅋㅋㅋ', '연락해보께', '너랑 연락한줄알았는데 아직 안했나보네', '저녁은 어찌할지..', '웅 무러보께', '웅']\n"
          ]
        }
      ]
    },
    {
      "cell_type": "code",
      "source": [
        "pip install konlpy"
      ],
      "metadata": {
        "colab": {
          "base_uri": "https://localhost:8080/"
        },
        "id": "V7cl62zT3l72",
        "outputId": "d75d3250-4e49-452b-86d0-e3bdc5d443be"
      },
      "execution_count": 7,
      "outputs": [
        {
          "output_type": "stream",
          "name": "stdout",
          "text": [
            "Collecting konlpy\n",
            "  Downloading konlpy-0.6.0-py2.py3-none-any.whl (19.4 MB)\n",
            "\u001b[K     |████████████████████████████████| 19.4 MB 5.3 MB/s \n",
            "\u001b[?25hCollecting JPype1>=0.7.0\n",
            "  Downloading JPype1-1.3.0-cp37-cp37m-manylinux_2_5_x86_64.manylinux1_x86_64.whl (448 kB)\n",
            "\u001b[K     |████████████████████████████████| 448 kB 48.5 MB/s \n",
            "\u001b[?25hRequirement already satisfied: numpy>=1.6 in /usr/local/lib/python3.7/dist-packages (from konlpy) (1.21.6)\n",
            "Requirement already satisfied: lxml>=4.1.0 in /usr/local/lib/python3.7/dist-packages (from konlpy) (4.2.6)\n",
            "Requirement already satisfied: typing-extensions in /usr/local/lib/python3.7/dist-packages (from JPype1>=0.7.0->konlpy) (4.1.1)\n",
            "Installing collected packages: JPype1, konlpy\n",
            "Successfully installed JPype1-1.3.0 konlpy-0.6.0\n"
          ]
        }
      ]
    },
    {
      "cell_type": "code",
      "source": [
        "from konlpy.tag import Okt\n",
        "okt=Okt()"
      ],
      "metadata": {
        "id": "q7K6KZk8Vbtl"
      },
      "execution_count": 8,
      "outputs": []
    },
    {
      "cell_type": "code",
      "source": [
        "print(okt.morphs(sent_lists[0][0]))\n",
        "print(' '.join(okt.morphs(sent_lists[0][0])))"
      ],
      "metadata": {
        "colab": {
          "base_uri": "https://localhost:8080/"
        },
        "id": "4s8lVLpkyjsl",
        "outputId": "45014ca9-1d75-4fd7-9db4-be80b5652077"
      },
      "execution_count": 9,
      "outputs": [
        {
          "output_type": "stream",
          "name": "stdout",
          "text": [
            "['가족', '분위기', '나', '어머니', '아버지', '가', '마니', '엄격하신지', '조금씩', '물어보구', '....']\n",
            "가족 분위기 나 어머니 아버지 가 마니 엄격하신지 조금씩 물어보구 ....\n"
          ]
        }
      ]
    },
    {
      "cell_type": "markdown",
      "source": [
        "## 발화자 (pnum)에 따라서 대화 구분, 발화자 변경 시 다음 행으로 텍스트 저장\n",
        "리스트 행에 따라 발화자 구분 (발화자 무조건 교대로 저장되도록)"
      ],
      "metadata": {
        "id": "zFNpZQus5us8"
      }
    },
    {
      "cell_type": "code",
      "source": [
        "pre=1\n",
        "temp_seq=[]\n",
        "seq=[]\n",
        "\n",
        "for i,lines in enumerate(sent_lists):\n",
        "  for j,line in enumerate(lines):\n",
        "    if pnum_lists[i][j]==pre:\n",
        "      pre=pnum_lists[i][j]\n",
        "      temp_seq.extend(okt.morphs(line))\n",
        "    else:\n",
        "      pre=pnum_lists[i][j]\n",
        "      seq.append(' '.join(temp_seq))\n",
        "\n",
        "      temp_seq=okt.morphs(line)\n",
        "      \n",
        "\n"
      ],
      "metadata": {
        "id": "OctSO53OVjqt"
      },
      "execution_count": 10,
      "outputs": []
    },
    {
      "cell_type": "code",
      "source": [
        "sent_len=[]\n",
        "\n",
        "for x in seq:\n",
        "  sent_len.append(len(x))\n",
        "\n",
        "print(max(sent_len))\n",
        "print(min(sent_len))\n",
        "print(sum(sent_len)/len(sent_len))"
      ],
      "metadata": {
        "colab": {
          "base_uri": "https://localhost:8080/"
        },
        "id": "CGwrIeI5WBUO",
        "outputId": "1e41d276-64b0-4754-a334-d4bb60cb96b4"
      },
      "execution_count": 11,
      "outputs": [
        {
          "output_type": "stream",
          "name": "stdout",
          "text": [
            "1757\n",
            "1\n",
            "24.769140802110382\n"
          ]
        }
      ]
    },
    {
      "cell_type": "markdown",
      "source": [
        "## 정리한 대화를 순서 한칸씩 밀어서 질문,대답으로 저장"
      ],
      "metadata": {
        "id": "ne1IcktD5h2W"
      }
    },
    {
      "cell_type": "code",
      "source": [
        "print(len(seq))\n",
        "\n",
        "questions = seq[::1][:-1]\n",
        "answers = ['\\t ' + lines for lines in seq[1::1]]\n",
        "\n",
        "print(np.shape(questions))\n",
        "print(np.shape(answers))\n",
        "\n",
        "num_sample = len(questions)\n",
        "num_word = 10000"
      ],
      "metadata": {
        "colab": {
          "base_uri": "https://localhost:8080/"
        },
        "id": "DnLot0c0ccwG",
        "outputId": "bd2d7cc1-91e7-4b2f-d9a5-43adb53f3f6f"
      },
      "execution_count": 13,
      "outputs": [
        {
          "output_type": "stream",
          "name": "stdout",
          "text": [
            "970440\n",
            "(970439,)\n",
            "(970439,)\n"
          ]
        }
      ]
    },
    {
      "cell_type": "markdown",
      "source": [
        "## Train, Test Set 분리"
      ],
      "metadata": {
        "id": "s8hhaJ1r5dYE"
      }
    },
    {
      "cell_type": "code",
      "source": [
        "\n",
        "perm = list(range(num_sample))\n",
        "random.seed(0)\n",
        "random.shuffle(perm)\n",
        "\n",
        "train_q = list()\n",
        "train_a = list()\n",
        "test_q = list()\n",
        "test_a = list()\n",
        "\n",
        "for idx, qna in enumerate(zip(questions, answers)):\n",
        "    q, a = qna\n",
        "    if perm[idx] > num_sample//5:\n",
        "        train_q.append(q)\n",
        "        train_a.append(a)\n",
        "    else:\n",
        "        test_q.append(q)\n",
        "        test_a.append(a)"
      ],
      "metadata": {
        "id": "vc1OKO_n-CYC"
      },
      "execution_count": 14,
      "outputs": []
    },
    {
      "cell_type": "code",
      "source": [
        "# 토크나이저 생성 (num_works는 빈도수 기준으로 몇개 단어까지 쓸지,)\n",
        "tokenizer = tf.keras.preprocessing.text.Tokenizer(num_words=num_word,\n",
        "                                                  filters='!\"#$%&()*+,-./:;<=>?@[\\\\]^_`{|}~ㅋ',oov_token='<OOV>')\n",
        "\n",
        "# 텍스트의 단어들 voca로 만들기\n",
        "tokenizer.fit_on_texts(train_q + train_a)\n",
        "word_dict = tokenizer.word_index\n",
        "print(word_dict)\n",
        "\n",
        "# voca와 매칭되는 단어 인덱스 리스트로 만들기\n",
        "train_q_seq = tokenizer.texts_to_sequences(train_q)\n",
        "train_a_seq = tokenizer.texts_to_sequences(train_a)\n",
        "\n",
        "test_q_seq = tokenizer.texts_to_sequences(test_q)\n",
        "test_a_seq = tokenizer.texts_to_sequences(test_a)"
      ],
      "metadata": {
        "colab": {
          "base_uri": "https://localhost:8080/"
        },
        "id": "wc-6FCGGBRH4",
        "outputId": "0cd0d41a-4777-454d-b72f-e5543553df95"
      },
      "execution_count": 15,
      "outputs": [
        {
          "output_type": "stream",
          "name": "stderr",
          "text": [
            "IOPub data rate exceeded.\n",
            "The notebook server will temporarily stop sending output\n",
            "to the client in order to avoid crashing it.\n",
            "To change this limit, set the config variable\n",
            "`--NotebookApp.iopub_data_rate_limit`.\n",
            "\n",
            "Current values:\n",
            "NotebookApp.iopub_data_rate_limit=1000000.0 (bytes/sec)\n",
            "NotebookApp.rate_limit_window=3.0 (secs)\n",
            "\n"
          ]
        }
      ]
    },
    {
      "cell_type": "code",
      "source": [
        "print(train_q[5])\n",
        "print(train_q_seq[5])\n",
        "\n",
        "print(train_a[5])\n",
        "print(train_a_seq[5])"
      ],
      "metadata": {
        "colab": {
          "base_uri": "https://localhost:8080/"
        },
        "id": "a0LjVRIbIxly",
        "outputId": "14322212-b28f-401b-a8b3-1fe91a3f25d6"
      },
      "execution_count": 28,
      "outputs": [
        {
          "output_type": "stream",
          "name": "stdout",
          "text": [
            "ㅋ . 그래 . 셤셤 만나\n",
            "[106, 1, 472]\n",
            "\t 웅 ㅋㅋㅋ #@ 시스템 # 사진 #\n",
            "[2, 26, 33, 41]\n"
          ]
        }
      ]
    },
    {
      "cell_type": "code",
      "source": [
        "x_train = tf.keras.preprocessing.sequence.pad_sequences(train_q_seq, value=0, padding='pre', maxlen=80)\n",
        "y_train = tf.keras.preprocessing.sequence.pad_sequences(train_a_seq, value=0, padding='post', maxlen=81)\n",
        "\n",
        "y_train_shifted = np.concatenate([np.zeros((y_train.shape[0], 1)), y_train[:, 1:]], axis=1)\n",
        "\n",
        "x_test = tf.keras.preprocessing.sequence.pad_sequences(test_q_seq, value=0, padding='pre', maxlen=80)\n",
        "y_test = tf.keras.preprocessing.sequence.pad_sequences(test_a_seq, value=0, padding='post', maxlen=81)"
      ],
      "metadata": {
        "id": "y58M5FiCDYKL"
      },
      "execution_count": 27,
      "outputs": []
    },
    {
      "cell_type": "markdown",
      "source": [
        "# 모델 구성 정의"
      ],
      "metadata": {
        "id": "a8mW68auQByp"
      }
    },
    {
      "cell_type": "code",
      "source": [
        "class DotScaledAttention(Layer):\n",
        "    def __init__(self, d_emb, d_reduced, masked=False):\n",
        "        super().__init__()\n",
        "        self.q = Dense(d_reduced, input_shape=(-1, d_emb))\n",
        "        self.k = Dense(d_reduced, input_shape=(-1, d_emb))\n",
        "        self.v = Dense(d_reduced, input_shape=(-1, d_emb))\n",
        "        self.scale = Lambda(lambda x: x/np.sqrt(d_reduced))\n",
        "        self.masked = masked\n",
        "\n",
        "    def call(self, x, training=None, mask=None): # (q,k,v)\n",
        "        q = self.scale(self.q(x[0]))\n",
        "        k = self.k(x[1])\n",
        "        v = self.v(x[2])\n",
        "        \n",
        "        k_T = tf.transpose(k, perm=[0, 2, 1])\n",
        "        comp = tf.matmul(q, k_T)\n",
        "        \n",
        "        if self.masked: # Referred from https://github.com/LastRemote/Transformer-TF2.0\n",
        "            length = tf.shape(comp)[-1]\n",
        "            mask = tf.fill((length, length), -np.inf)\n",
        "            mask = tf.linalg.band_part(mask, 0, -1) # Get upper triangle\n",
        "            mask = tf.linalg.set_diag(mask, tf.zeros((length))) # Set diagonal to zeros to avoid operations with infinity\n",
        "            comp += mask\n",
        "        comp = tf.nn.softmax(comp, axis=-1)\n",
        "        return tf.matmul(comp, v)"
      ],
      "metadata": {
        "id": "qc0DauH8OSpp"
      },
      "execution_count": 30,
      "outputs": []
    },
    {
      "cell_type": "code",
      "source": [
        "class MultiHeadAttention(Layer):\n",
        "    def __init__(self, num_head, d_emb, d_reduced, masked=False):\n",
        "        super().__init__()\n",
        "        self.attention_list = list()\n",
        "        for _ in range(num_head):\n",
        "            self.attention_list.append(DotScaledAttention(d_emb, d_reduced, masked))\n",
        "        self.linear = Dense(d_emb, input_shape=(-1, num_head * d_reduced))\n",
        "\n",
        "    def call(self, x, training=None, mask=None):\n",
        "        attention_list = [a(x) for a in self.attention_list]\n",
        "        concat = tf.concat(attention_list, axis=-1)\n",
        "        return self.linear(concat)"
      ],
      "metadata": {
        "id": "16oyBsEcQGnX"
      },
      "execution_count": 31,
      "outputs": []
    },
    {
      "cell_type": "code",
      "source": [
        "class Encoder(Layer):\n",
        "    def __init__(self, num_head, d_reduced):\n",
        "        super().__init__()\n",
        "        self.num_head = num_head\n",
        "        self.d_r = d_reduced\n",
        "    \n",
        "    def build(self, input_shape):\n",
        "        self.multi_attention = MultiHeadAttention(self.num_head, input_shape[-1], self.d_r)\n",
        "        self.layer_norm1 = LayerNormalization(input_shape=input_shape)\n",
        "        self.dense1 = Dense(input_shape[-1] * 4, input_shape=input_shape, activation='relu')\n",
        "        self.dense2 = Dense(input_shape[-1],\n",
        "                            input_shape=self.dense1.compute_output_shape(input_shape))\n",
        "        self.layer_norm2 = LayerNormalization(input_shape=input_shape)\n",
        "        super().build(input_shape)\n",
        "\n",
        "    def call(self, x, training=None, mask=None):\n",
        "        h = self.multi_attention((x, x, x))\n",
        "        ln1 = self.layer_norm1(x + h)\n",
        "        \n",
        "        h = self.dense2(self.dense1(ln1))\n",
        "        return self.layer_norm2(h + ln1)\n",
        "\n",
        "    def compute_output_shape(self, input_shape):\n",
        "        return input_shape"
      ],
      "metadata": {
        "id": "svXBReOvQIoh"
      },
      "execution_count": 32,
      "outputs": []
    },
    {
      "cell_type": "code",
      "source": [
        "class Decoder(Layer):\n",
        "    def __init__(self, num_head, d_reduced):\n",
        "        super().__init__()\n",
        "        self.num_head = num_head\n",
        "        self.d_r = d_reduced\n",
        "    \n",
        "    def build(self, input_shape):\n",
        "        self.self_attention = MultiHeadAttention(self.num_head, input_shape[0][-1], self.d_r, masked=True)\n",
        "        self.layer_norm1 = LayerNormalization(input_shape=input_shape)\n",
        "        \n",
        "        self.multi_attention = MultiHeadAttention(self.num_head, input_shape[0][-1], self.d_r)\n",
        "        self.layer_norm2 = LayerNormalization(input_shape=input_shape)\n",
        "        \n",
        "        self.dense1 = Dense(input_shape[0][-1] * 4, input_shape=input_shape[0], activation='relu')\n",
        "        self.dense2 = Dense(input_shape[0][-1],\n",
        "                            input_shape=self.dense1.compute_output_shape(input_shape[0]))\n",
        "        self.layer_norm3 = LayerNormalization(input_shape=input_shape)\n",
        "        super().build(input_shape)\n",
        "\n",
        "    def call(self, inputs, training=None, mask=None): # (x, context)\n",
        "        x, context = inputs\n",
        "        h = self.self_attention((x, x, x))\n",
        "        ln1 = self.layer_norm1(x + h)\n",
        "        \n",
        "        h = self.multi_attention((ln1, context, context))\n",
        "        ln2 = self.layer_norm2(ln1 + h)\n",
        "        \n",
        "        h = self.dense2(self.dense1(ln2))\n",
        "        return self.layer_norm3(h + ln2)\n",
        "\n",
        "    def compute_output_shape(self, input_shape):\n",
        "        return input_shape"
      ],
      "metadata": {
        "id": "CCjGlAalQKco"
      },
      "execution_count": 33,
      "outputs": []
    },
    {
      "cell_type": "code",
      "source": [
        "class PositionalEncoding(Layer):  # Referred from https://github.com/LastRemote/Transformer-TF2.0\n",
        "    def __init__(self, max_len, d_emb):\n",
        "        super().__init__()\n",
        "        self.sinusoidal_encoding = np.array([self.get_positional_angle(pos, d_emb) for pos in range(max_len)], dtype=np.float32)\n",
        "        self.sinusoidal_encoding[:, 0::2] = np.sin(self.sinusoidal_encoding[:, 0::2])\n",
        "        self.sinusoidal_encoding[:, 1::2] = np.cos(self.sinusoidal_encoding[:, 1::2])\n",
        "        self.sinusoidal_encoding = tf.cast(self.sinusoidal_encoding, dtype=tf.float32)\n",
        "\n",
        "    def call(self, x, training=None, mask=None):\n",
        "        return x + self.sinusoidal_encoding[:tf.shape(x)[1]]\n",
        "\n",
        "    def compute_output_shape(self, input_shape):\n",
        "        return input_shape\n",
        "\n",
        "    def get_angle(self, pos, dim, d_emb):\n",
        "        return pos / np.power(10000, 2 * (dim // 2) / d_emb)\n",
        "\n",
        "    def get_positional_angle(self, pos, d_emb):\n",
        "        return [self.get_angle(pos, dim, d_emb) for dim in range(d_emb)]"
      ],
      "metadata": {
        "id": "Kgk4KWwRQZ7q"
      },
      "execution_count": 34,
      "outputs": []
    },
    {
      "cell_type": "code",
      "source": [
        "class Transformer(Model):\n",
        "    def __init__(self, src_vocab, dst_vocab, max_len, d_emb,\n",
        "                       d_reduced, n_enc_layer, n_dec_layer, num_head):\n",
        "        super().__init__()\n",
        "        self.enc_emb = Embedding(src_vocab, d_emb)\n",
        "        self.dec_emb = Embedding(dst_vocab, d_emb)\n",
        "        self.pos_enc = PositionalEncoding(max_len, d_emb)\n",
        "        \n",
        "        self.encoder = [Encoder(num_head, d_reduced) for _ in range(n_enc_layer)]\n",
        "        self.decoder = [Decoder(num_head, d_reduced) for _ in range(n_dec_layer)]\n",
        "        self.dense = Dense(dst_vocab, input_shape=(-1, d_emb))\n",
        "\n",
        "    def call(self, inputs, training=None, mask=None): # (src_sentence, dst_sentence_shifted)\n",
        "        src_sent, dst_sent_shifted = inputs\n",
        "        \n",
        "        h_enc = self.pos_enc(self.enc_emb(src_sent))\n",
        "        for enc in self.encoder:\n",
        "            h_enc = enc(h_enc)\n",
        "            \n",
        "        h_dec = self.pos_enc(self.dec_emb(dst_sent_shifted))\n",
        "        for dec in self.decoder:\n",
        "            h_dec = dec([h_dec, h_enc])\n",
        "            \n",
        "        return tf.nn.softmax(self.dense(h_dec), axis=-1)"
      ],
      "metadata": {
        "id": "QGvxeSxpQkTE"
      },
      "execution_count": 35,
      "outputs": []
    },
    {
      "cell_type": "markdown",
      "source": [
        "# 학습 시작"
      ],
      "metadata": {
        "id": "7XV4NAXAQxMH"
      }
    },
    {
      "cell_type": "code",
      "source": [
        "EPOCHS=200\n",
        "\n",
        "transformer = Transformer(num_word,\n",
        "                          num_word,\n",
        "                          128, 16, 16, 2, 2, 4) # Instantiating a new transformer model\n",
        "\n",
        "transformer.compile(optimizer='adam',\n",
        "              loss='sparse_categorical_crossentropy',\n",
        "              metrics=['accuracy'])\n",
        "transformer.fit([x_train, y_train_shifted], y_train, batch_size=20, epochs=EPOCHS)"
      ],
      "metadata": {
        "colab": {
          "base_uri": "https://localhost:8080/",
          "height": 248
        },
        "id": "WxS54g4MQmGY",
        "outputId": "1ffc8195-f12b-41af-e4d9-c580a9811585"
      },
      "execution_count": 1,
      "outputs": [
        {
          "output_type": "error",
          "ename": "NameError",
          "evalue": "ignored",
          "traceback": [
            "\u001b[0;31m---------------------------------------------------------------------------\u001b[0m",
            "\u001b[0;31mNameError\u001b[0m                                 Traceback (most recent call last)",
            "\u001b[0;32m<ipython-input-1-a8c5f48a185e>\u001b[0m in \u001b[0;36m<module>\u001b[0;34m()\u001b[0m\n\u001b[1;32m      1\u001b[0m \u001b[0mEPOCHS\u001b[0m\u001b[0;34m=\u001b[0m\u001b[0;36m200\u001b[0m\u001b[0;34m\u001b[0m\u001b[0;34m\u001b[0m\u001b[0m\n\u001b[1;32m      2\u001b[0m \u001b[0;34m\u001b[0m\u001b[0m\n\u001b[0;32m----> 3\u001b[0;31m transformer = Transformer(num_word,\n\u001b[0m\u001b[1;32m      4\u001b[0m                           \u001b[0mnum_word\u001b[0m\u001b[0;34m,\u001b[0m\u001b[0;34m\u001b[0m\u001b[0;34m\u001b[0m\u001b[0m\n\u001b[1;32m      5\u001b[0m                           128, 16, 16, 2, 2, 4) # Instantiating a new transformer model\n",
            "\u001b[0;31mNameError\u001b[0m: name 'Transformer' is not defined"
          ]
        }
      ]
    },
    {
      "cell_type": "code",
      "source": [
        "import os\n",
        "\n",
        "save_dir='/content/drive/MyDrive'\n",
        "\n",
        "model_json = transformer.to_json()  # model.json\n",
        "# with open(save_dir + \"model.json\", \"w\") as json_file:\n",
        "with open(os.path.join(save_dir, \"people2_conversation.json\"), \"w\") as json_file:\n",
        "    json_file.write(model_json)\n",
        "transformer.save_weights(os.path.join(save_dir, \"people2_conversation.h5\"))  # model.h5"
      ],
      "metadata": {
        "id": "GXjF8sDoRe3g"
      },
      "execution_count": null,
      "outputs": []
    }
  ]
}